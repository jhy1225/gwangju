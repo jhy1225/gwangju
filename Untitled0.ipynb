{
  "nbformat": 4,
  "nbformat_minor": 0,
  "metadata": {
    "colab": {
      "name": "Untitled0.ipynb",
      "provenance": [],
      "authorship_tag": "ABX9TyNNN4F+F2mfZVE0NIJ83OK4",
      "include_colab_link": true
    },
    "kernelspec": {
      "name": "python3",
      "display_name": "Python 3"
    }
  },
  "cells": [
    {
      "cell_type": "markdown",
      "metadata": {
        "id": "view-in-github",
        "colab_type": "text"
      },
      "source": [
        "<a href=\"https://colab.research.google.com/github/jhy1225/gwangju/blob/master/Untitled0.ipynb\" target=\"_parent\"><img src=\"https://colab.research.google.com/assets/colab-badge.svg\" alt=\"Open In Colab\"/></a>"
      ]
    },
    {
      "cell_type": "code",
      "metadata": {
        "id": "JAM6JjhvhO5j",
        "colab_type": "code",
        "colab": {}
      },
      "source": [
        ""
      ],
      "execution_count": 0,
      "outputs": []
    },
    {
      "cell_type": "markdown",
      "metadata": {
        "id": "CrgnQ2Z-Q46A",
        "colab_type": "text"
      },
      "source": [
        "**언어** 서비스  [구글 번역](https://translate.google.com/)\n",
        "\n",
        "**음성** 제품  [구글 홈](https://search.naver.com/p/crd/rd?m=1&px=127&py=442&sx=127&sy=442&p=UWhh9lp0YiRssD4g3kNssssssS0-078701&q=%EA%B5%AC%EA%B8%80+%ED%99%88&ie=utf8&rev=1&ssc=tab.web.webkr&f=webkr&w=webkr&s=HzsoMDhbR08rsN1lfPNENsjB&time=1591089396729&bt=18&a=web_all*w.tit&r=1&i=a00000fa_f0566e20d3ec66e266808f67&u=https%3A%2F%2Fnamu.wiki%2Fw%2F%25EA%25B5%25AC%25EA%25B8%2580%2520%25ED%2599%2588)\n",
        "\n",
        "**이미지** 서비스 [CheXNeXt](https://search.naver.com/p/crd/rd?m=1&px=441&py=1415&sx=441&sy=515&p=UWhlqwprvOsssD5nfvwssssssH0-103556&q=%EC%9D%B8%EA%B3%B5%EC%A7%80%EB%8A%A5+%EC%9D%B4%EB%AF%B8%EC%A7%80&ie=utf8&rev=1&ssc=tab.nx.all&f=nexearch&w=nexearch&s=qCknlAhXwEEPZ%2BfGDVUJIphN&time=1591091376509&bt=30&a=kdc_gnl*m.title&r=1&i=80181d82_000000000323016755e0bf85&u=https%3A%2F%2Fterms.naver.com%2Fentry.nhn%3FdocId%3D5687467%26cid%3D60296%26categoryId%3D60304&cr=4)\n",
        "\n",
        "**자율주행** 제품 [애트모봇 프로](https://youtu.be/GkJv6CRPHqY)\n"
      ]
    }
  ]
}